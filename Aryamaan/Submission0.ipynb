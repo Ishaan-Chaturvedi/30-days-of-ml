{
 "cells": [
  {
   "cell_type": "code",
   "execution_count": 32,
   "metadata": {},
   "outputs": [],
   "source": [
    "import numpy as np\n",
    "import pandas as pd\n",
    "import matplotlib.pyplot as plt\n",
    "import seaborn as sns\n",
    "\n",
    "import warnings\n",
    "warnings.filterwarnings(\"ignore\")\n",
    "\n",
    "%matplotlib inline"
   ]
  },
  {
   "cell_type": "code",
   "execution_count": 7,
   "metadata": {},
   "outputs": [
    {
     "data": {
      "text/html": [
       "<div>\n",
       "<style scoped>\n",
       "    .dataframe tbody tr th:only-of-type {\n",
       "        vertical-align: middle;\n",
       "    }\n",
       "\n",
       "    .dataframe tbody tr th {\n",
       "        vertical-align: top;\n",
       "    }\n",
       "\n",
       "    .dataframe thead th {\n",
       "        text-align: right;\n",
       "    }\n",
       "</style>\n",
       "<table border=\"1\" class=\"dataframe\">\n",
       "  <thead>\n",
       "    <tr style=\"text-align: right;\">\n",
       "      <th></th>\n",
       "      <th>id</th>\n",
       "      <th>cat0</th>\n",
       "      <th>cat1</th>\n",
       "      <th>cat2</th>\n",
       "      <th>cat3</th>\n",
       "      <th>cat4</th>\n",
       "      <th>cat5</th>\n",
       "      <th>cat6</th>\n",
       "      <th>cat7</th>\n",
       "      <th>cat8</th>\n",
       "      <th>...</th>\n",
       "      <th>cont5</th>\n",
       "      <th>cont6</th>\n",
       "      <th>cont7</th>\n",
       "      <th>cont8</th>\n",
       "      <th>cont9</th>\n",
       "      <th>cont10</th>\n",
       "      <th>cont11</th>\n",
       "      <th>cont12</th>\n",
       "      <th>cont13</th>\n",
       "      <th>target</th>\n",
       "    </tr>\n",
       "  </thead>\n",
       "  <tbody>\n",
       "    <tr>\n",
       "      <th>0</th>\n",
       "      <td>1</td>\n",
       "      <td>B</td>\n",
       "      <td>B</td>\n",
       "      <td>B</td>\n",
       "      <td>C</td>\n",
       "      <td>B</td>\n",
       "      <td>B</td>\n",
       "      <td>A</td>\n",
       "      <td>E</td>\n",
       "      <td>C</td>\n",
       "      <td>...</td>\n",
       "      <td>0.400361</td>\n",
       "      <td>0.160266</td>\n",
       "      <td>0.310921</td>\n",
       "      <td>0.389470</td>\n",
       "      <td>0.267559</td>\n",
       "      <td>0.237281</td>\n",
       "      <td>0.377873</td>\n",
       "      <td>0.322401</td>\n",
       "      <td>0.869850</td>\n",
       "      <td>8.113634</td>\n",
       "    </tr>\n",
       "    <tr>\n",
       "      <th>1</th>\n",
       "      <td>2</td>\n",
       "      <td>B</td>\n",
       "      <td>B</td>\n",
       "      <td>A</td>\n",
       "      <td>A</td>\n",
       "      <td>B</td>\n",
       "      <td>D</td>\n",
       "      <td>A</td>\n",
       "      <td>F</td>\n",
       "      <td>A</td>\n",
       "      <td>...</td>\n",
       "      <td>0.533087</td>\n",
       "      <td>0.558922</td>\n",
       "      <td>0.516294</td>\n",
       "      <td>0.594928</td>\n",
       "      <td>0.341439</td>\n",
       "      <td>0.906013</td>\n",
       "      <td>0.921701</td>\n",
       "      <td>0.261975</td>\n",
       "      <td>0.465083</td>\n",
       "      <td>8.481233</td>\n",
       "    </tr>\n",
       "    <tr>\n",
       "      <th>2</th>\n",
       "      <td>3</td>\n",
       "      <td>A</td>\n",
       "      <td>A</td>\n",
       "      <td>A</td>\n",
       "      <td>C</td>\n",
       "      <td>B</td>\n",
       "      <td>D</td>\n",
       "      <td>A</td>\n",
       "      <td>D</td>\n",
       "      <td>A</td>\n",
       "      <td>...</td>\n",
       "      <td>0.650609</td>\n",
       "      <td>0.375348</td>\n",
       "      <td>0.902567</td>\n",
       "      <td>0.555205</td>\n",
       "      <td>0.843531</td>\n",
       "      <td>0.748809</td>\n",
       "      <td>0.620126</td>\n",
       "      <td>0.541474</td>\n",
       "      <td>0.763846</td>\n",
       "      <td>8.364351</td>\n",
       "    </tr>\n",
       "    <tr>\n",
       "      <th>3</th>\n",
       "      <td>4</td>\n",
       "      <td>B</td>\n",
       "      <td>B</td>\n",
       "      <td>A</td>\n",
       "      <td>C</td>\n",
       "      <td>B</td>\n",
       "      <td>D</td>\n",
       "      <td>A</td>\n",
       "      <td>E</td>\n",
       "      <td>C</td>\n",
       "      <td>...</td>\n",
       "      <td>0.668980</td>\n",
       "      <td>0.239061</td>\n",
       "      <td>0.732948</td>\n",
       "      <td>0.679618</td>\n",
       "      <td>0.574844</td>\n",
       "      <td>0.346010</td>\n",
       "      <td>0.714610</td>\n",
       "      <td>0.540150</td>\n",
       "      <td>0.280682</td>\n",
       "      <td>8.049253</td>\n",
       "    </tr>\n",
       "    <tr>\n",
       "      <th>4</th>\n",
       "      <td>6</td>\n",
       "      <td>A</td>\n",
       "      <td>A</td>\n",
       "      <td>A</td>\n",
       "      <td>C</td>\n",
       "      <td>B</td>\n",
       "      <td>D</td>\n",
       "      <td>A</td>\n",
       "      <td>E</td>\n",
       "      <td>A</td>\n",
       "      <td>...</td>\n",
       "      <td>0.686964</td>\n",
       "      <td>0.420667</td>\n",
       "      <td>0.648182</td>\n",
       "      <td>0.684501</td>\n",
       "      <td>0.956692</td>\n",
       "      <td>1.000773</td>\n",
       "      <td>0.776742</td>\n",
       "      <td>0.625849</td>\n",
       "      <td>0.250823</td>\n",
       "      <td>7.972260</td>\n",
       "    </tr>\n",
       "  </tbody>\n",
       "</table>\n",
       "<p>5 rows × 26 columns</p>\n",
       "</div>"
      ],
      "text/plain": [
       "   id cat0 cat1 cat2 cat3 cat4 cat5 cat6 cat7 cat8  ...     cont5     cont6  \\\n",
       "0   1    B    B    B    C    B    B    A    E    C  ...  0.400361  0.160266   \n",
       "1   2    B    B    A    A    B    D    A    F    A  ...  0.533087  0.558922   \n",
       "2   3    A    A    A    C    B    D    A    D    A  ...  0.650609  0.375348   \n",
       "3   4    B    B    A    C    B    D    A    E    C  ...  0.668980  0.239061   \n",
       "4   6    A    A    A    C    B    D    A    E    A  ...  0.686964  0.420667   \n",
       "\n",
       "      cont7     cont8     cont9    cont10    cont11    cont12    cont13  \\\n",
       "0  0.310921  0.389470  0.267559  0.237281  0.377873  0.322401  0.869850   \n",
       "1  0.516294  0.594928  0.341439  0.906013  0.921701  0.261975  0.465083   \n",
       "2  0.902567  0.555205  0.843531  0.748809  0.620126  0.541474  0.763846   \n",
       "3  0.732948  0.679618  0.574844  0.346010  0.714610  0.540150  0.280682   \n",
       "4  0.648182  0.684501  0.956692  1.000773  0.776742  0.625849  0.250823   \n",
       "\n",
       "     target  \n",
       "0  8.113634  \n",
       "1  8.481233  \n",
       "2  8.364351  \n",
       "3  8.049253  \n",
       "4  7.972260  \n",
       "\n",
       "[5 rows x 26 columns]"
      ]
     },
     "execution_count": 7,
     "metadata": {},
     "output_type": "execute_result"
    }
   ],
   "source": [
    "data = pd.read_csv(\"train.csv\")\n",
    "data.head()"
   ]
  },
  {
   "cell_type": "code",
   "execution_count": 3,
   "metadata": {},
   "outputs": [
    {
     "data": {
      "text/html": [
       "<div>\n",
       "<style scoped>\n",
       "    .dataframe tbody tr th:only-of-type {\n",
       "        vertical-align: middle;\n",
       "    }\n",
       "\n",
       "    .dataframe tbody tr th {\n",
       "        vertical-align: top;\n",
       "    }\n",
       "\n",
       "    .dataframe thead th {\n",
       "        text-align: right;\n",
       "    }\n",
       "</style>\n",
       "<table border=\"1\" class=\"dataframe\">\n",
       "  <thead>\n",
       "    <tr style=\"text-align: right;\">\n",
       "      <th></th>\n",
       "      <th>id</th>\n",
       "      <th>cont0</th>\n",
       "      <th>cont1</th>\n",
       "      <th>cont2</th>\n",
       "      <th>cont3</th>\n",
       "      <th>cont4</th>\n",
       "      <th>cont5</th>\n",
       "      <th>cont6</th>\n",
       "      <th>cont7</th>\n",
       "      <th>cont8</th>\n",
       "      <th>cont9</th>\n",
       "      <th>cont10</th>\n",
       "      <th>cont11</th>\n",
       "      <th>cont12</th>\n",
       "      <th>cont13</th>\n",
       "      <th>target</th>\n",
       "    </tr>\n",
       "  </thead>\n",
       "  <tbody>\n",
       "    <tr>\n",
       "      <th>count</th>\n",
       "      <td>300000.000000</td>\n",
       "      <td>300000.000000</td>\n",
       "      <td>300000.000000</td>\n",
       "      <td>300000.000000</td>\n",
       "      <td>300000.000000</td>\n",
       "      <td>300000.000000</td>\n",
       "      <td>300000.000000</td>\n",
       "      <td>300000.000000</td>\n",
       "      <td>300000.000000</td>\n",
       "      <td>300000.000000</td>\n",
       "      <td>300000.000000</td>\n",
       "      <td>300000.000000</td>\n",
       "      <td>300000.000000</td>\n",
       "      <td>300000.000000</td>\n",
       "      <td>300000.000000</td>\n",
       "      <td>300000.000000</td>\n",
       "    </tr>\n",
       "    <tr>\n",
       "      <th>mean</th>\n",
       "      <td>250018.576947</td>\n",
       "      <td>0.527335</td>\n",
       "      <td>0.460926</td>\n",
       "      <td>0.490498</td>\n",
       "      <td>0.496689</td>\n",
       "      <td>0.491654</td>\n",
       "      <td>0.510526</td>\n",
       "      <td>0.467476</td>\n",
       "      <td>0.537119</td>\n",
       "      <td>0.498456</td>\n",
       "      <td>0.474872</td>\n",
       "      <td>0.474492</td>\n",
       "      <td>0.473216</td>\n",
       "      <td>0.494561</td>\n",
       "      <td>0.508273</td>\n",
       "      <td>8.241979</td>\n",
       "    </tr>\n",
       "    <tr>\n",
       "      <th>std</th>\n",
       "      <td>144450.150010</td>\n",
       "      <td>0.230599</td>\n",
       "      <td>0.214003</td>\n",
       "      <td>0.253346</td>\n",
       "      <td>0.219199</td>\n",
       "      <td>0.240074</td>\n",
       "      <td>0.228232</td>\n",
       "      <td>0.210331</td>\n",
       "      <td>0.218140</td>\n",
       "      <td>0.239920</td>\n",
       "      <td>0.218007</td>\n",
       "      <td>0.255949</td>\n",
       "      <td>0.222022</td>\n",
       "      <td>0.247292</td>\n",
       "      <td>0.222950</td>\n",
       "      <td>0.746555</td>\n",
       "    </tr>\n",
       "    <tr>\n",
       "      <th>min</th>\n",
       "      <td>1.000000</td>\n",
       "      <td>-0.118039</td>\n",
       "      <td>-0.069309</td>\n",
       "      <td>-0.056104</td>\n",
       "      <td>0.130676</td>\n",
       "      <td>0.255908</td>\n",
       "      <td>0.045915</td>\n",
       "      <td>-0.224689</td>\n",
       "      <td>0.203763</td>\n",
       "      <td>-0.260275</td>\n",
       "      <td>0.117896</td>\n",
       "      <td>0.048732</td>\n",
       "      <td>0.052608</td>\n",
       "      <td>-0.074208</td>\n",
       "      <td>0.151050</td>\n",
       "      <td>0.140329</td>\n",
       "    </tr>\n",
       "    <tr>\n",
       "      <th>25%</th>\n",
       "      <td>124772.500000</td>\n",
       "      <td>0.405965</td>\n",
       "      <td>0.310494</td>\n",
       "      <td>0.300604</td>\n",
       "      <td>0.329783</td>\n",
       "      <td>0.284188</td>\n",
       "      <td>0.354141</td>\n",
       "      <td>0.342873</td>\n",
       "      <td>0.355825</td>\n",
       "      <td>0.332486</td>\n",
       "      <td>0.306874</td>\n",
       "      <td>0.276017</td>\n",
       "      <td>0.308151</td>\n",
       "      <td>0.289074</td>\n",
       "      <td>0.300669</td>\n",
       "      <td>7.742071</td>\n",
       "    </tr>\n",
       "    <tr>\n",
       "      <th>50%</th>\n",
       "      <td>250002.500000</td>\n",
       "      <td>0.497053</td>\n",
       "      <td>0.427903</td>\n",
       "      <td>0.502462</td>\n",
       "      <td>0.465026</td>\n",
       "      <td>0.390470</td>\n",
       "      <td>0.488865</td>\n",
       "      <td>0.429383</td>\n",
       "      <td>0.504661</td>\n",
       "      <td>0.439151</td>\n",
       "      <td>0.434620</td>\n",
       "      <td>0.459975</td>\n",
       "      <td>0.433812</td>\n",
       "      <td>0.422887</td>\n",
       "      <td>0.472400</td>\n",
       "      <td>8.191373</td>\n",
       "    </tr>\n",
       "    <tr>\n",
       "      <th>75%</th>\n",
       "      <td>375226.500000</td>\n",
       "      <td>0.668060</td>\n",
       "      <td>0.615113</td>\n",
       "      <td>0.647512</td>\n",
       "      <td>0.664451</td>\n",
       "      <td>0.696599</td>\n",
       "      <td>0.669625</td>\n",
       "      <td>0.573383</td>\n",
       "      <td>0.703441</td>\n",
       "      <td>0.606056</td>\n",
       "      <td>0.614333</td>\n",
       "      <td>0.691579</td>\n",
       "      <td>0.642057</td>\n",
       "      <td>0.714502</td>\n",
       "      <td>0.758447</td>\n",
       "      <td>8.728634</td>\n",
       "    </tr>\n",
       "    <tr>\n",
       "      <th>max</th>\n",
       "      <td>499999.000000</td>\n",
       "      <td>1.058443</td>\n",
       "      <td>0.887253</td>\n",
       "      <td>1.034704</td>\n",
       "      <td>1.039560</td>\n",
       "      <td>1.055424</td>\n",
       "      <td>1.067649</td>\n",
       "      <td>1.111552</td>\n",
       "      <td>1.032837</td>\n",
       "      <td>1.040229</td>\n",
       "      <td>0.982922</td>\n",
       "      <td>1.055960</td>\n",
       "      <td>1.071444</td>\n",
       "      <td>0.975035</td>\n",
       "      <td>0.905992</td>\n",
       "      <td>10.411992</td>\n",
       "    </tr>\n",
       "  </tbody>\n",
       "</table>\n",
       "</div>"
      ],
      "text/plain": [
       "                  id          cont0          cont1          cont2  \\\n",
       "count  300000.000000  300000.000000  300000.000000  300000.000000   \n",
       "mean   250018.576947       0.527335       0.460926       0.490498   \n",
       "std    144450.150010       0.230599       0.214003       0.253346   \n",
       "min         1.000000      -0.118039      -0.069309      -0.056104   \n",
       "25%    124772.500000       0.405965       0.310494       0.300604   \n",
       "50%    250002.500000       0.497053       0.427903       0.502462   \n",
       "75%    375226.500000       0.668060       0.615113       0.647512   \n",
       "max    499999.000000       1.058443       0.887253       1.034704   \n",
       "\n",
       "               cont3          cont4          cont5          cont6  \\\n",
       "count  300000.000000  300000.000000  300000.000000  300000.000000   \n",
       "mean        0.496689       0.491654       0.510526       0.467476   \n",
       "std         0.219199       0.240074       0.228232       0.210331   \n",
       "min         0.130676       0.255908       0.045915      -0.224689   \n",
       "25%         0.329783       0.284188       0.354141       0.342873   \n",
       "50%         0.465026       0.390470       0.488865       0.429383   \n",
       "75%         0.664451       0.696599       0.669625       0.573383   \n",
       "max         1.039560       1.055424       1.067649       1.111552   \n",
       "\n",
       "               cont7          cont8          cont9         cont10  \\\n",
       "count  300000.000000  300000.000000  300000.000000  300000.000000   \n",
       "mean        0.537119       0.498456       0.474872       0.474492   \n",
       "std         0.218140       0.239920       0.218007       0.255949   \n",
       "min         0.203763      -0.260275       0.117896       0.048732   \n",
       "25%         0.355825       0.332486       0.306874       0.276017   \n",
       "50%         0.504661       0.439151       0.434620       0.459975   \n",
       "75%         0.703441       0.606056       0.614333       0.691579   \n",
       "max         1.032837       1.040229       0.982922       1.055960   \n",
       "\n",
       "              cont11         cont12         cont13         target  \n",
       "count  300000.000000  300000.000000  300000.000000  300000.000000  \n",
       "mean        0.473216       0.494561       0.508273       8.241979  \n",
       "std         0.222022       0.247292       0.222950       0.746555  \n",
       "min         0.052608      -0.074208       0.151050       0.140329  \n",
       "25%         0.308151       0.289074       0.300669       7.742071  \n",
       "50%         0.433812       0.422887       0.472400       8.191373  \n",
       "75%         0.642057       0.714502       0.758447       8.728634  \n",
       "max         1.071444       0.975035       0.905992      10.411992  "
      ]
     },
     "execution_count": 3,
     "metadata": {},
     "output_type": "execute_result"
    }
   ],
   "source": [
    "data.describe()"
   ]
  },
  {
   "cell_type": "code",
   "execution_count": 29,
   "metadata": {},
   "outputs": [
    {
     "data": {
      "text/plain": [
       "Index(['id', 'cat0', 'cat1', 'cat2', 'cat3', 'cat4', 'cat5', 'cat6', 'cat7',\n",
       "       'cat8', 'cat9', 'cont0', 'cont1', 'cont2', 'cont3', 'cont4', 'cont5',\n",
       "       'cont6', 'cont7', 'cont8', 'cont9', 'cont10', 'cont11', 'cont12',\n",
       "       'cont13', 'target'],\n",
       "      dtype='object')"
      ]
     },
     "execution_count": 29,
     "metadata": {},
     "output_type": "execute_result"
    }
   ],
   "source": [
    "data.columns"
   ]
  },
  {
   "cell_type": "code",
   "execution_count": 4,
   "metadata": {},
   "outputs": [
    {
     "data": {
      "text/plain": [
       "<AxesSubplot:>"
      ]
     },
     "execution_count": 4,
     "metadata": {},
     "output_type": "execute_result"
    },
    {
     "data": {
      "image/png": "[encoded data removed]",
      "text/plain": [
       "<Figure size 432x288 with 2 Axes>"
      ]
     },
     "metadata": {
      "needs_background": "light"
     },
     "output_type": "display_data"
    }
   ],
   "source": [
    "sns.heatmap(data.corr()) #correlation matrix"
   ]
  },
  {
   "cell_type": "code",
   "execution_count": 5,
   "metadata": {},
   "outputs": [
    {
     "data": {
      "text/plain": [
       "Index([], dtype='object')"
      ]
     },
     "execution_count": 5,
     "metadata": {},
     "output_type": "execute_result"
    }
   ],
   "source": [
    "#null values\n",
    "data.columns[data.isnull().sum() != 0]"
   ]
  },
  {
   "cell_type": "code",
   "execution_count": 38,
   "metadata": {},
   "outputs": [
    {
     "data": {
      "image/png": "[encoded data removed]",
      "text/plain": [
       "<Figure size 432x288 with 10 Axes>"
      ]
     },
     "metadata": {
      "needs_background": "light"
     },
     "output_type": "display_data"
    },
    {
     "data": {
      "text/plain": [
       "<Figure size 720x288 with 0 Axes>"
      ]
     },
     "metadata": {},
     "output_type": "display_data"
    }
   ],
   "source": [
    "fig, ax = plt.subplots(5,2)\n",
    "plt.figure(figsize=(10, 4))\n",
    "for i in range(10):\n",
    "    sns.countplot(data['cat'+str(i)], ax=ax[i//2][i%2])\n",
    "fig.show()"
   ]
  },
  {
   "cell_type": "code",
   "execution_count": 42,
   "metadata": {},
   "outputs": [
    {
     "data": {
      "text/plain": [
       "['cat0',\n",
       " 'cat1',\n",
       " 'cat2',\n",
       " 'cat3',\n",
       " 'cat4',\n",
       " 'cat5',\n",
       " 'cat6',\n",
       " 'cat7',\n",
       " 'cat8',\n",
       " 'cat9']"
      ]
     },
     "execution_count": 42,
     "metadata": {},
     "output_type": "execute_result"
    }
   ],
   "source": [
    "s = (data.dtypes == 'object')\n",
    "object_cols = list(s[s].index)\n",
    "object_cols"
   ]
  },
  {
   "cell_type": "code",
   "execution_count": 44,
   "metadata": {},
   "outputs": [
    {
     "data": {
      "text/plain": [
       "Index(['id', 'cat0', 'cat1', 'cat2', 'cat3', 'cat4', 'cat5', 'cat6', 'cat7',\n",
       "       'cat8', 'cat9', 'cont0', 'cont1', 'cont2', 'cont3', 'cont4', 'cont5',\n",
       "       'cont6', 'cont7', 'cont8', 'cont9', 'cont10', 'cont11', 'cont12',\n",
       "       'cont13'],\n",
       "      dtype='object')"
      ]
     },
     "execution_count": 44,
     "metadata": {},
     "output_type": "execute_result"
    }
   ],
   "source": [
    "data.columns[data.columns != 'target']"
   ]
  },
  {
   "cell_type": "code",
   "execution_count": 45,
   "metadata": {},
   "outputs": [],
   "source": [
    "from sklearn.model_selection import train_test_split\n",
    "X_train, X_test, y_train, y_test = train_test_split(data[data.columns[data.columns != 'target']], data['target'], test_size=0.30, random_state=0)"
   ]
  },
  {
   "cell_type": "code",
   "execution_count": 60,
   "metadata": {},
   "outputs": [],
   "source": [
    "from sklearn.preprocessing import OneHotEncoder\n",
    "\n",
    "OH_encoder = OneHotEncoder(handle_unknown='error', sparse=False, drop='first')\n",
    "\n",
    "OH_cols_train = pd.DataFrame(OH_encoder.fit_transform(X_train[object_cols]))\n",
    "OH_cols_train.index = X_train.index\n",
    "\n",
    "num_X_train = X_train.drop(object_cols, axis=1)\n",
    "OH_X_train = pd.concat([num_X_train, OH_cols_train], axis=1)"
   ]
  },
  {
   "cell_type": "code",
   "execution_count": 62,
   "metadata": {},
   "outputs": [],
   "source": [
    "OH_cols_test = pd.DataFrame(OH_encoder.transform(X_test[object_cols]))\n",
    "OH_cols_test.index = X_test.index\n",
    "num_X_test = X_test.drop(object_cols, axis=1)\n",
    "OH_X_test = pd.concat([num_X_test, OH_cols_test], axis=1)"
   ]
  },
  {
   "cell_type": "code",
   "execution_count": 67,
   "metadata": {},
   "outputs": [],
   "source": [
    "from sklearn.linear_model import LinearRegression\n",
    "\n",
    "model = LinearRegression()\n",
    "model.fit(OH_X_train, y_train)\n",
    "y_pred = model.predict(OH_X_test)"
   ]
  },
  {
   "cell_type": "code",
   "execution_count": 73,
   "metadata": {},
   "outputs": [
    {
     "name": "stdout",
     "output_type": "stream",
     "text": [
      "MSE: 0.5462729847143016\n",
      "R2 Score: 0.02097018977536591\n"
     ]
    }
   ],
   "source": [
    "from sklearn.metrics import mean_squared_error, explained_variance_score\n",
    "\n",
    "print(\"MSE:\", mean_squared_error(y_test, y_pred))\n",
    "print(\"R2 Score:\", explained_variance_score(y_test, y_pred))"
   ]
  },
  {
   "cell_type": "code",
   "execution_count": 107,
   "metadata": {},
   "outputs": [],
   "source": [
    "test = pd.read_csv('test.csv')\n",
    "\n",
    "OH_cols_test = pd.DataFrame(OH_encoder.transform(test[object_cols]))\n",
    "OH_cols_test.index = test.index\n",
    "num_X_test = test.drop(object_cols, axis=1)\n",
    "OH_X_test = pd.concat([num_X_test, OH_cols_test], axis=1)"
   ]
  },
  {
   "cell_type": "code",
   "execution_count": 108,
   "metadata": {},
   "outputs": [],
   "source": [
    "y_pred = model.predict(OH_X_test)"
   ]
  },
  {
   "cell_type": "code",
   "execution_count": 109,
   "metadata": {},
   "outputs": [
    {
     "data": {
      "text/plain": [
       "200000"
      ]
     },
     "execution_count": 109,
     "metadata": {},
     "output_type": "execute_result"
    }
   ],
   "source": [
    "y_pred.size"
   ]
  },
  {
   "cell_type": "code",
   "execution_count": 110,
   "metadata": {},
   "outputs": [
    {
     "data": {
      "text/plain": [
       "array([[0.00000000e+00, 8.04010287e+00],\n",
       "       [5.00000000e+00, 8.31603146e+00],\n",
       "       [1.50000000e+01, 8.33527779e+00],\n",
       "       ...,\n",
       "       [4.99991000e+05, 8.24894061e+00],\n",
       "       [4.99994000e+05, 8.22662560e+00],\n",
       "       [4.99995000e+05, 8.21816105e+00]])"
      ]
     },
     "execution_count": 110,
     "metadata": {},
     "output_type": "execute_result"
    }
   ],
   "source": [
    "a = np.vstack((np.array(OH_X_test['id'], dtype=np.int), y_pred)).T\n",
    "a"
   ]
  },
  {
   "cell_type": "code",
   "execution_count": 111,
   "metadata": {},
   "outputs": [],
   "source": [
    "df = pd.DataFrame(a, columns=['id','target'])"
   ]
  },
  {
   "cell_type": "code",
   "execution_count": 112,
   "metadata": {},
   "outputs": [],
   "source": [
    "df['id'] = df['id'].astype('int')"
   ]
  },
  {
   "cell_type": "code",
   "execution_count": 115,
   "metadata": {},
   "outputs": [
    {
     "data": {
      "text/html": [
       "<div>\n",
       "<style scoped>\n",
       "    .dataframe tbody tr th:only-of-type {\n",
       "        vertical-align: middle;\n",
       "    }\n",
       "\n",
       "    .dataframe tbody tr th {\n",
       "        vertical-align: top;\n",
       "    }\n",
       "\n",
       "    .dataframe thead th {\n",
       "        text-align: right;\n",
       "    }\n",
       "</style>\n",
       "<table border=\"1\" class=\"dataframe\">\n",
       "  <thead>\n",
       "    <tr style=\"text-align: right;\">\n",
       "      <th></th>\n",
       "      <th>id</th>\n",
       "      <th>target</th>\n",
       "    </tr>\n",
       "  </thead>\n",
       "  <tbody>\n",
       "    <tr>\n",
       "      <th>count</th>\n",
       "      <td>200000.000000</td>\n",
       "      <td>200000.000000</td>\n",
       "    </tr>\n",
       "    <tr>\n",
       "      <th>mean</th>\n",
       "      <td>249970.884580</td>\n",
       "      <td>8.242617</td>\n",
       "    </tr>\n",
       "    <tr>\n",
       "      <th>std</th>\n",
       "      <td>144169.245904</td>\n",
       "      <td>0.113316</td>\n",
       "    </tr>\n",
       "    <tr>\n",
       "      <th>min</th>\n",
       "      <td>0.000000</td>\n",
       "      <td>7.754829</td>\n",
       "    </tr>\n",
       "    <tr>\n",
       "      <th>25%</th>\n",
       "      <td>125316.750000</td>\n",
       "      <td>8.165996</td>\n",
       "    </tr>\n",
       "    <tr>\n",
       "      <th>50%</th>\n",
       "      <td>249997.000000</td>\n",
       "      <td>8.241491</td>\n",
       "    </tr>\n",
       "    <tr>\n",
       "      <th>75%</th>\n",
       "      <td>374649.750000</td>\n",
       "      <td>8.317728</td>\n",
       "    </tr>\n",
       "    <tr>\n",
       "      <th>max</th>\n",
       "      <td>499995.000000</td>\n",
       "      <td>8.793705</td>\n",
       "    </tr>\n",
       "  </tbody>\n",
       "</table>\n",
       "</div>"
      ],
      "text/plain": [
       "                  id         target\n",
       "count  200000.000000  200000.000000\n",
       "mean   249970.884580       8.242617\n",
       "std    144169.245904       0.113316\n",
       "min         0.000000       7.754829\n",
       "25%    125316.750000       8.165996\n",
       "50%    249997.000000       8.241491\n",
       "75%    374649.750000       8.317728\n",
       "max    499995.000000       8.793705"
      ]
     },
     "execution_count": 115,
     "metadata": {},
     "output_type": "execute_result"
    }
   ],
   "source": [
    "df.describe()"
   ]
  },
  {
   "cell_type": "code",
   "execution_count": 116,
   "metadata": {},
   "outputs": [],
   "source": [
    "df.to_csv('submission0.csv', index=False)"
   ]
  },
  {
   "cell_type": "code",
   "execution_count": null,
   "metadata": {},
   "outputs": [],
   "source": []
  }
 ],
 "metadata": {
  "kernelspec": {
   "display_name": "Python 3",
   "language": "python",
   "name": "python3"
  },
  "language_info": {
   "codemirror_mode": {
    "name": "ipython",
    "version": 3
   },
   "file_extension": ".py",
   "mimetype": "text/x-python",
   "name": "python",
   "nbconvert_exporter": "python",
   "pygments_lexer": "ipython3",
   "version": "3.8.5"
  }
 },
 "nbformat": 4,
 "nbformat_minor": 4
}
